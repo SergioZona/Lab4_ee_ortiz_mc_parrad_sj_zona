{
 "cells": [
  {
   "cell_type": "markdown",
   "id": "98c8b70c-91ef-43ad-92e0-0e38be745c28",
   "metadata": {
    "id": "497T5nW-MzMF",
    "jp-MarkdownHeadingCollapsed": true,
    "tags": []
   },
   "source": [
    "# **Laboratorio 4**\n",
    "### **Integrantes:**\n",
    "* Maria Camila Parra Díaz (201819464)\n",
    "* Esteban Emmanuel Ortiz Morales (201913613)  \n",
    "* Sergio Julian Zona Moreno (201914936)"
   ]
  },
  {
   "cell_type": "markdown",
   "id": "bc103ddf-9cf6-4a77-a845-40cb38d04039",
   "metadata": {},
   "source": [
    "# **Depuración y análisis de los datos**"
   ]
  },
  {
   "cell_type": "code",
   "execution_count": 72,
   "id": "0e68c6ad-2a15-424b-937f-c96e98ff6b08",
   "metadata": {
    "id": "0e68c6ad-2a15-424b-937f-c96e98ff6b08"
   },
   "outputs": [],
   "source": [
    "# Librerías para manejo de datos\n",
    "import pandas as pd\n",
    "pd.set_option('display.max_columns', 25) # Número máximo de columnas a mostrar\n",
    "pd.set_option('display.max_rows', 50) # Numero máximo de filas a mostar\n",
    "\n",
    "from nltk import word_tokenize, sent_tokenize\n",
    "import re, string, unicodedata\n",
    "\n",
    "# Para preparar los datos\n",
    "# ------------------------\n",
    "# Preprocesar\n",
    "# Para visualizar un reporte de los datos.\n",
    "#from pandas_profiling import ProfileReport"
   ]
  },
  {
   "cell_type": "code",
   "execution_count": 73,
   "id": "cda3b693-62f8-4943-ad37-04655c8f87b2",
   "metadata": {
    "id": "cda3b693-62f8-4943-ad37-04655c8f87b2"
   },
   "outputs": [],
   "source": [
    "# Se cargan los datos.\n",
    "df_city=pd.read_csv('dimension_city.csv', sep=',', encoding = 'latin-1', index_col=None)\n",
    "df_customer=pd.read_csv('dimension_customer.csv', sep=',', encoding = 'latin-1', index_col=None)\n",
    "df_date=pd.read_csv('dimension_date.csv', sep=',', encoding = 'latin-1', index_col=None)\n",
    "df_employee=pd.read_csv('dimension_employee.csv', sep=',', encoding = 'latin-1', index_col=None)\n",
    "df_stock_item=pd.read_csv('dimension_stock_item.csv', sep=',', encoding = 'latin-1', index_col=None) \n",
    "df_fact_order=pd.read_csv('fact_order.csv', sep=',', encoding = 'latin-1', index_col=None)\n",
    "\n",
    "# Se reemplazan los espacios de los nombres de las columnas por ''.\n",
    "df_customer.columns = df_customer.columns.str.replace(' ', '')\n"
   ]
  },
  {
   "cell_type": "code",
   "execution_count": 74,
   "id": "d5936f0f",
   "metadata": {
    "scrolled": true
   },
   "outputs": [
    {
     "data": {
      "text/html": [
       "<div>\n",
       "<style scoped>\n",
       "    .dataframe tbody tr th:only-of-type {\n",
       "        vertical-align: middle;\n",
       "    }\n",
       "\n",
       "    .dataframe tbody tr th {\n",
       "        vertical-align: top;\n",
       "    }\n",
       "\n",
       "    .dataframe thead th {\n",
       "        text-align: right;\n",
       "    }\n",
       "</style>\n",
       "<table border=\"1\" class=\"dataframe\">\n",
       "  <thead>\n",
       "    <tr style=\"text-align: right;\">\n",
       "      <th></th>\n",
       "      <th>City_Key</th>\n",
       "      <th>City</th>\n",
       "      <th>State_Province</th>\n",
       "      <th>Country</th>\n",
       "      <th>Continent</th>\n",
       "      <th>Sales_Territory</th>\n",
       "      <th>Region</th>\n",
       "      <th>Subregion</th>\n",
       "      <th>Latest_Recorded_Population</th>\n",
       "    </tr>\n",
       "  </thead>\n",
       "  <tbody>\n",
       "    <tr>\n",
       "      <th>54</th>\n",
       "      <td>55</td>\n",
       "      <td>El Nido</td>\n",
       "      <td>California</td>\n",
       "      <td>United States</td>\n",
       "      <td>North America</td>\n",
       "      <td>Far West</td>\n",
       "      <td>Americas</td>\n",
       "      <td>Northern America</td>\n",
       "      <td>330</td>\n",
       "    </tr>\n",
       "    <tr>\n",
       "      <th>8</th>\n",
       "      <td>9</td>\n",
       "      <td>Carrollton</td>\n",
       "      <td>Mississippi</td>\n",
       "      <td>United States</td>\n",
       "      <td>North America</td>\n",
       "      <td>Southeast</td>\n",
       "      <td>Americas</td>\n",
       "      <td>Northern America</td>\n",
       "      <td>190</td>\n",
       "    </tr>\n",
       "    <tr>\n",
       "      <th>83</th>\n",
       "      <td>84</td>\n",
       "      <td>El Verano</td>\n",
       "      <td>California</td>\n",
       "      <td>United States</td>\n",
       "      <td>North America</td>\n",
       "      <td>Far West</td>\n",
       "      <td>Americas</td>\n",
       "      <td>Northern America</td>\n",
       "      <td>4123</td>\n",
       "    </tr>\n",
       "    <tr>\n",
       "      <th>28</th>\n",
       "      <td>29</td>\n",
       "      <td>Carter</td>\n",
       "      <td>Montana</td>\n",
       "      <td>United States</td>\n",
       "      <td>North America</td>\n",
       "      <td>Rocky Mountain</td>\n",
       "      <td>Americas</td>\n",
       "      <td>Northern America</td>\n",
       "      <td>58</td>\n",
       "    </tr>\n",
       "    <tr>\n",
       "      <th>10</th>\n",
       "      <td>11</td>\n",
       "      <td>Carrollton Manor</td>\n",
       "      <td>Maryland</td>\n",
       "      <td>United States</td>\n",
       "      <td>North America</td>\n",
       "      <td>Mideast</td>\n",
       "      <td>Americas</td>\n",
       "      <td>Northern America</td>\n",
       "      <td>0</td>\n",
       "    </tr>\n",
       "    <tr>\n",
       "      <th>4</th>\n",
       "      <td>5</td>\n",
       "      <td>Carrollton</td>\n",
       "      <td>Ohio</td>\n",
       "      <td>United States</td>\n",
       "      <td>North America</td>\n",
       "      <td>Great Lakes</td>\n",
       "      <td>Americas</td>\n",
       "      <td>Northern America</td>\n",
       "      <td>3241</td>\n",
       "    </tr>\n",
       "    <tr>\n",
       "      <th>48</th>\n",
       "      <td>49</td>\n",
       "      <td>El Lago</td>\n",
       "      <td>Texas</td>\n",
       "      <td>United States</td>\n",
       "      <td>North America</td>\n",
       "      <td>Southwest</td>\n",
       "      <td>Americas</td>\n",
       "      <td>Northern America</td>\n",
       "      <td>2706</td>\n",
       "    </tr>\n",
       "    <tr>\n",
       "      <th>39</th>\n",
       "      <td>40</td>\n",
       "      <td>El Dara</td>\n",
       "      <td>Illinois</td>\n",
       "      <td>United States</td>\n",
       "      <td>North America</td>\n",
       "      <td>Great Lakes</td>\n",
       "      <td>Americas</td>\n",
       "      <td>Northern America</td>\n",
       "      <td>78</td>\n",
       "    </tr>\n",
       "    <tr>\n",
       "      <th>53</th>\n",
       "      <td>54</td>\n",
       "      <td>El Negro</td>\n",
       "      <td>Puerto Rico (US Territory)</td>\n",
       "      <td>United States</td>\n",
       "      <td>North America</td>\n",
       "      <td>External</td>\n",
       "      <td>Americas</td>\n",
       "      <td>Northern America</td>\n",
       "      <td>1075</td>\n",
       "    </tr>\n",
       "    <tr>\n",
       "      <th>75</th>\n",
       "      <td>76</td>\n",
       "      <td>El Rito</td>\n",
       "      <td>New Mexico</td>\n",
       "      <td>United States</td>\n",
       "      <td>North America</td>\n",
       "      <td>Southwest</td>\n",
       "      <td>Americas</td>\n",
       "      <td>Northern America</td>\n",
       "      <td>808</td>\n",
       "    </tr>\n",
       "  </tbody>\n",
       "</table>\n",
       "</div>"
      ],
      "text/plain": [
       "    City_Key              City              State_Province        Country  \\\n",
       "54        55           El Nido                  California  United States   \n",
       "8          9        Carrollton                 Mississippi  United States   \n",
       "83        84         El Verano                  California  United States   \n",
       "28        29            Carter                     Montana  United States   \n",
       "10        11  Carrollton Manor                    Maryland  United States   \n",
       "4          5        Carrollton                        Ohio  United States   \n",
       "48        49           El Lago                       Texas  United States   \n",
       "39        40           El Dara                    Illinois  United States   \n",
       "53        54          El Negro  Puerto Rico (US Territory)  United States   \n",
       "75        76           El Rito                  New Mexico  United States   \n",
       "\n",
       "        Continent Sales_Territory    Region         Subregion  \\\n",
       "54  North America        Far West  Americas  Northern America   \n",
       "8   North America       Southeast  Americas  Northern America   \n",
       "83  North America        Far West  Americas  Northern America   \n",
       "28  North America  Rocky Mountain  Americas  Northern America   \n",
       "10  North America         Mideast  Americas  Northern America   \n",
       "4   North America     Great Lakes  Americas  Northern America   \n",
       "48  North America       Southwest  Americas  Northern America   \n",
       "39  North America     Great Lakes  Americas  Northern America   \n",
       "53  North America        External  Americas  Northern America   \n",
       "75  North America       Southwest  Americas  Northern America   \n",
       "\n",
       "    Latest_Recorded_Population  \n",
       "54                         330  \n",
       "8                          190  \n",
       "83                        4123  \n",
       "28                          58  \n",
       "10                           0  \n",
       "4                         3241  \n",
       "48                        2706  \n",
       "39                          78  \n",
       "53                        1075  \n",
       "75                         808  "
      ]
     },
     "execution_count": 74,
     "metadata": {},
     "output_type": "execute_result"
    }
   ],
   "source": [
    "df_city.sample(10)"
   ]
  },
  {
   "cell_type": "code",
   "execution_count": 75,
   "id": "ed6fc055",
   "metadata": {
    "scrolled": true
   },
   "outputs": [
    {
     "data": {
      "text/plain": [
       "(97, 9)"
      ]
     },
     "execution_count": 75,
     "metadata": {},
     "output_type": "execute_result"
    }
   ],
   "source": [
    "df_city.shape"
   ]
  },
  {
   "cell_type": "code",
   "execution_count": 76,
   "id": "f4bfac5d",
   "metadata": {},
   "outputs": [
    {
     "data": {
      "text/plain": [
       "(97, 9)"
      ]
     },
     "execution_count": 76,
     "metadata": {},
     "output_type": "execute_result"
    }
   ],
   "source": [
    "df_city = df_city[df_city.City != 'Unknown']\n",
    "df_city['City'] = df_city['City'].apply(lambda x: unicodedata.normalize('NFKD', x).encode('ascii', 'ignore').decode('utf-8', 'ignore'))\n",
    "df_city.shape"
   ]
  },
  {
   "cell_type": "code",
   "execution_count": 77,
   "id": "c8b24624",
   "metadata": {
    "scrolled": true
   },
   "outputs": [
    {
     "data": {
      "text/plain": [
       "City_Key                                              50\n",
       "City                                          El Mangi12\n",
       "State_Province                Puerto Rico (US Territory)\n",
       "Country                                    United States\n",
       "Continent                                  North America\n",
       "Sales_Territory                                 External\n",
       "Region                                          Americas\n",
       "Subregion                               Northern America\n",
       "Latest_Recorded_Population                          1482\n",
       "Name: 49, dtype: object"
      ]
     },
     "execution_count": 77,
     "metadata": {},
     "output_type": "execute_result"
    }
   ],
   "source": [
    "df_city.iloc[49]"
   ]
  },
  {
   "cell_type": "code",
   "execution_count": 78,
   "id": "23784fd8",
   "metadata": {},
   "outputs": [
    {
     "data": {
      "text/plain": [
       "(402, 7)"
      ]
     },
     "execution_count": 78,
     "metadata": {},
     "output_type": "execute_result"
    }
   ],
   "source": [
    "df_customer.shape"
   ]
  },
  {
   "cell_type": "code",
   "execution_count": 79,
   "id": "adb7f727",
   "metadata": {
    "scrolled": true
   },
   "outputs": [
    {
     "data": {
      "text/html": [
       "<div>\n",
       "<style scoped>\n",
       "    .dataframe tbody tr th:only-of-type {\n",
       "        vertical-align: middle;\n",
       "    }\n",
       "\n",
       "    .dataframe tbody tr th {\n",
       "        vertical-align: top;\n",
       "    }\n",
       "\n",
       "    .dataframe thead th {\n",
       "        text-align: right;\n",
       "    }\n",
       "</style>\n",
       "<table border=\"1\" class=\"dataframe\">\n",
       "  <thead>\n",
       "    <tr style=\"text-align: right;\">\n",
       "      <th></th>\n",
       "      <th>Customer_Key</th>\n",
       "      <th>Customer</th>\n",
       "      <th>Bill_To_Customer</th>\n",
       "      <th>Category</th>\n",
       "      <th>Buying_Group</th>\n",
       "      <th>Primary_Contact</th>\n",
       "      <th>Postal_Code</th>\n",
       "    </tr>\n",
       "  </thead>\n",
       "  <tbody>\n",
       "    <tr>\n",
       "      <th>319</th>\n",
       "      <td>320</td>\n",
       "      <td>Wingtip Toys (Boynton- OK)</td>\n",
       "      <td>Wingtip Toys (Head Office)</td>\n",
       "      <td>Novelty Shop</td>\n",
       "      <td>Wingtip Toys</td>\n",
       "      <td>Aani Sen</td>\n",
       "      <td>90760.0</td>\n",
       "    </tr>\n",
       "    <tr>\n",
       "      <th>352</th>\n",
       "      <td>353</td>\n",
       "      <td>Wingtip Toys (Shay- PA)</td>\n",
       "      <td>Wingtip Toys (Head Office)</td>\n",
       "      <td>Novelty Shop</td>\n",
       "      <td>Wingtip Toys</td>\n",
       "      <td>Noel Cartier</td>\n",
       "      <td>90759.0</td>\n",
       "    </tr>\n",
       "    <tr>\n",
       "      <th>163</th>\n",
       "      <td>164</td>\n",
       "      <td>Tailspin Toys (Rothsville- PA)</td>\n",
       "      <td>Tailspin Toys (Head Office)</td>\n",
       "      <td>Novelty Shop</td>\n",
       "      <td>Tailspin Toys</td>\n",
       "      <td>Ceyhun sahin</td>\n",
       "      <td>90538.0</td>\n",
       "    </tr>\n",
       "    <tr>\n",
       "      <th>196</th>\n",
       "      <td>197</td>\n",
       "      <td>Tailspin Toys (Magalia- CA)</td>\n",
       "      <td>Tailspin Toys (Head Office)</td>\n",
       "      <td>Novelty Shop</td>\n",
       "      <td>Tailspin Toys</td>\n",
       "      <td>Mani Poddar</td>\n",
       "      <td>90226.0</td>\n",
       "    </tr>\n",
       "    <tr>\n",
       "      <th>179</th>\n",
       "      <td>180</td>\n",
       "      <td>Tailspin Toys (Caselton- NV)</td>\n",
       "      <td>Tailspin Toys (Head Office)</td>\n",
       "      <td>Novelty Shop</td>\n",
       "      <td>Tailspin Toys</td>\n",
       "      <td>Serkan senturk</td>\n",
       "      <td>90747.0</td>\n",
       "    </tr>\n",
       "    <tr>\n",
       "      <th>258</th>\n",
       "      <td>259</td>\n",
       "      <td>Wingtip Toys (Coker- AL)</td>\n",
       "      <td>Wingtip Toys (Head Office)</td>\n",
       "      <td>Novelty Shop</td>\n",
       "      <td>Wingtip Toys</td>\n",
       "      <td>Miguel Paez</td>\n",
       "      <td>90364.0</td>\n",
       "    </tr>\n",
       "    <tr>\n",
       "      <th>44</th>\n",
       "      <td>45</td>\n",
       "      <td>Tailspin Toys (Severna Park- MD)</td>\n",
       "      <td>Tailspin Toys (Head Office)</td>\n",
       "      <td>Novelty Shop</td>\n",
       "      <td>Tailspin Toys</td>\n",
       "      <td>Lap Dinh</td>\n",
       "      <td>90326.0</td>\n",
       "    </tr>\n",
       "    <tr>\n",
       "      <th>199</th>\n",
       "      <td>200</td>\n",
       "      <td>Tailspin Toys (Tooele- UT)</td>\n",
       "      <td>Tailspin Toys (Head Office)</td>\n",
       "      <td>Novelty Shop</td>\n",
       "      <td>Tailspin Toys</td>\n",
       "      <td>Fanni Benko</td>\n",
       "      <td>90100.0</td>\n",
       "    </tr>\n",
       "    <tr>\n",
       "      <th>382</th>\n",
       "      <td>383</td>\n",
       "      <td>Wingtip Toys (Montoya- NM)</td>\n",
       "      <td>Wingtip Toys (Head Office)</td>\n",
       "      <td>Novelty Shop</td>\n",
       "      <td>Wingtip Toys</td>\n",
       "      <td>Pavel Bohuslav</td>\n",
       "      <td>90683.0</td>\n",
       "    </tr>\n",
       "    <tr>\n",
       "      <th>143</th>\n",
       "      <td>144</td>\n",
       "      <td>Tailspin Toys (Larose- LA)</td>\n",
       "      <td>Tailspin Toys (Head Office)</td>\n",
       "      <td>Novelty Shop</td>\n",
       "      <td>Tailspin Toys</td>\n",
       "      <td>Pramod Nishad</td>\n",
       "      <td>90342.0</td>\n",
       "    </tr>\n",
       "  </tbody>\n",
       "</table>\n",
       "</div>"
      ],
      "text/plain": [
       "     Customer_Key                          Customer  \\\n",
       "319           320        Wingtip Toys (Boynton- OK)   \n",
       "352           353           Wingtip Toys (Shay- PA)   \n",
       "163           164    Tailspin Toys (Rothsville- PA)   \n",
       "196           197       Tailspin Toys (Magalia- CA)   \n",
       "179           180      Tailspin Toys (Caselton- NV)   \n",
       "258           259          Wingtip Toys (Coker- AL)   \n",
       "44             45  Tailspin Toys (Severna Park- MD)   \n",
       "199           200        Tailspin Toys (Tooele- UT)   \n",
       "382           383        Wingtip Toys (Montoya- NM)   \n",
       "143           144        Tailspin Toys (Larose- LA)   \n",
       "\n",
       "                Bill_To_Customer      Category   Buying_Group Primary_Contact  \\\n",
       "319   Wingtip Toys (Head Office)  Novelty Shop   Wingtip Toys        Aani Sen   \n",
       "352   Wingtip Toys (Head Office)  Novelty Shop   Wingtip Toys    Noel Cartier   \n",
       "163  Tailspin Toys (Head Office)  Novelty Shop  Tailspin Toys    Ceyhun sahin   \n",
       "196  Tailspin Toys (Head Office)  Novelty Shop  Tailspin Toys     Mani Poddar   \n",
       "179  Tailspin Toys (Head Office)  Novelty Shop  Tailspin Toys  Serkan senturk   \n",
       "258   Wingtip Toys (Head Office)  Novelty Shop   Wingtip Toys     Miguel Paez   \n",
       "44   Tailspin Toys (Head Office)  Novelty Shop  Tailspin Toys        Lap Dinh   \n",
       "199  Tailspin Toys (Head Office)  Novelty Shop  Tailspin Toys     Fanni Benko   \n",
       "382   Wingtip Toys (Head Office)  Novelty Shop   Wingtip Toys  Pavel Bohuslav   \n",
       "143  Tailspin Toys (Head Office)  Novelty Shop  Tailspin Toys   Pramod Nishad   \n",
       "\n",
       "     Postal_Code  \n",
       "319      90760.0  \n",
       "352      90759.0  \n",
       "163      90538.0  \n",
       "196      90226.0  \n",
       "179      90747.0  \n",
       "258      90364.0  \n",
       "44       90326.0  \n",
       "199      90100.0  \n",
       "382      90683.0  \n",
       "143      90342.0  "
      ]
     },
     "execution_count": 79,
     "metadata": {},
     "output_type": "execute_result"
    }
   ],
   "source": [
    "df_customer.sample(10)"
   ]
  },
  {
   "cell_type": "code",
   "execution_count": 80,
   "id": "81308d9b",
   "metadata": {},
   "outputs": [],
   "source": [
    "df_customer = df_customer[df_customer.Customer != 'Unknown']\n",
    "df_customer['Primary_Contact'] = df_customer['Primary_Contact'].apply(lambda x: unicodedata.normalize('NFKD', x).encode('ascii', 'ignore').decode('utf-8', 'ignore'))\n",
    "df_customer['Customer'] = df_customer['Customer'].apply(lambda x: unicodedata.normalize('NFKD', x).encode('ascii', 'ignore').decode('utf-8', 'ignore'))"
   ]
  },
  {
   "cell_type": "code",
   "execution_count": 81,
   "id": "97b5d02c",
   "metadata": {},
   "outputs": [
    {
     "data": {
      "text/plain": [
       "Customer_Key                                390\n",
       "Customer            Wingtip Toys (Alcester- SD)\n",
       "Bill_To_Customer     Wingtip Toys (Head Office)\n",
       "Category                           Novelty Shop\n",
       "Buying_Group                       Wingtip Toys\n",
       "Primary_Contact          Deviprasad PrabhupA?da\n",
       "Postal_Code                             90797.0\n",
       "Name: 389, dtype: object"
      ]
     },
     "execution_count": 81,
     "metadata": {},
     "output_type": "execute_result"
    }
   ],
   "source": [
    "df_customer.iloc[389]"
   ]
  },
  {
   "cell_type": "code",
   "execution_count": 82,
   "id": "a83cba51",
   "metadata": {
    "scrolled": true
   },
   "outputs": [
    {
     "data": {
      "text/plain": [
       "(1461, 9)"
      ]
     },
     "execution_count": 82,
     "metadata": {},
     "output_type": "execute_result"
    }
   ],
   "source": [
    "df_date.shape"
   ]
  },
  {
   "cell_type": "code",
   "execution_count": 83,
   "id": "4dd6bd88",
   "metadata": {},
   "outputs": [
    {
     "data": {
      "text/plain": [
       "(212, 4)"
      ]
     },
     "execution_count": 83,
     "metadata": {},
     "output_type": "execute_result"
    }
   ],
   "source": [
    "df_employee.shape"
   ]
  },
  {
   "cell_type": "code",
   "execution_count": 84,
   "id": "0500af33",
   "metadata": {},
   "outputs": [],
   "source": [
    "df_employee = df_employee[df_employee.Employee != 'Unknown']\n",
    "df_employee['Employee'] = df_employee['Employee'].apply(lambda x: unicodedata.normalize('NFKD', x).encode('ascii', 'ignore').decode('utf-8', 'ignore'))\n",
    "df_employee['Preferred_Name'] = df_employee['Preferred_Name'].apply(lambda x: unicodedata.normalize('NFKD', x).encode('ascii', 'ignore').decode('utf-8', 'ignore'))"
   ]
  },
  {
   "cell_type": "code",
   "execution_count": 85,
   "id": "b2054c8f",
   "metadata": {},
   "outputs": [
    {
     "data": {
      "text/plain": [
       "(671, 14)"
      ]
     },
     "execution_count": 85,
     "metadata": {},
     "output_type": "execute_result"
    }
   ],
   "source": [
    "df_stock_item.shape"
   ]
  },
  {
   "cell_type": "code",
   "execution_count": 86,
   "id": "eac40fc4",
   "metadata": {},
   "outputs": [],
   "source": [
    "df_stock_item = df_stock_item[df_stock_item.Stock_Item != 'Unknown']\n",
    "df_stock_item['Stock_Item'] = df_stock_item['Stock_Item'].apply(lambda x: unicodedata.normalize('NFKD', x).encode('ascii', 'ignore').decode('utf-8', 'ignore'))\n"
   ]
  },
  {
   "cell_type": "code",
   "execution_count": 87,
   "id": "c5859592",
   "metadata": {
    "scrolled": true
   },
   "outputs": [
    {
     "data": {
      "text/plain": [
       "(1000, 15)"
      ]
     },
     "execution_count": 87,
     "metadata": {},
     "output_type": "execute_result"
    }
   ],
   "source": [
    "df_fact_order.shape"
   ]
  },
  {
   "cell_type": "code",
   "execution_count": 88,
   "id": "8f4bb705",
   "metadata": {},
   "outputs": [],
   "source": [
    "df_city.to_csv('dimension_city.csv', index=False)\n",
    "df_customer.to_csv('dimension_customer.csv', index=False)\n",
    "df_date.to_csv('dimension_date.csv', index=False)\n",
    "df_employee.to_csv('dimension_employee.csv', index=False)\n",
    "df_stock_item.to_csv('dimension_stock_item.csv', index=False)\n",
    "df_fact_order.to_csv('fact_order.csv', index=False)"
   ]
  },
  {
   "cell_type": "code",
   "execution_count": null,
   "id": "90ceb719-9f4c-4b1f-87b1-77d28e02b8b2",
   "metadata": {},
   "outputs": [],
   "source": []
  },
  {
   "cell_type": "code",
   "execution_count": null,
   "id": "42a9fd91-11e3-41a4-94ed-f101c291974c",
   "metadata": {},
   "outputs": [],
   "source": []
  },
  {
   "cell_type": "code",
   "execution_count": null,
   "id": "c44d0ca7-add8-4bdd-8bde-1dc2966706ad",
   "metadata": {},
   "outputs": [],
   "source": []
  },
  {
   "cell_type": "code",
   "execution_count": null,
   "id": "f17e37d4-4abe-440e-98e2-ba157f9bd4fa",
   "metadata": {},
   "outputs": [],
   "source": []
  },
  {
   "cell_type": "code",
   "execution_count": null,
   "id": "4ab35712-0951-4520-b0e0-13a781c858fe",
   "metadata": {},
   "outputs": [],
   "source": []
  }
 ],
 "metadata": {
  "colab": {
   "collapsed_sections": [],
   "name": "Lab1_ee.ortiz_mc.parrad_sj.zona.ipynb",
   "provenance": []
  },
  "kernelspec": {
   "display_name": "Python 3",
   "language": "python",
   "name": "python3"
  },
  "language_info": {
   "codemirror_mode": {
    "name": "ipython",
    "version": 3
   },
   "file_extension": ".py",
   "mimetype": "text/x-python",
   "name": "python",
   "nbconvert_exporter": "python",
   "pygments_lexer": "ipython3",
   "version": "3.8.8"
  }
 },
 "nbformat": 4,
 "nbformat_minor": 5
}
